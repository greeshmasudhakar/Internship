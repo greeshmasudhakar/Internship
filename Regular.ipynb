{
 "cells": [
  {
   "cell_type": "markdown",
   "id": "463a26d4",
   "metadata": {},
   "source": [
    "Assignment For Regular Expression\n"
   ]
  },
  {
   "cell_type": "markdown",
   "id": "0b749ded",
   "metadata": {},
   "source": [
    "Question no 01"
   ]
  },
  {
   "cell_type": "code",
   "execution_count": 86,
   "id": "242fab9c",
   "metadata": {},
   "outputs": [
    {
     "name": "stdout",
     "output_type": "stream",
     "text": [
      "The string \"Hello123\" contains only allowed characters.\n",
      "The string \"GoodMorning!\" contains some disallowed characters.\n",
      "The string \"Welcome_123\" contains some disallowed characters.\n",
      "The string \"12345\" contains only allowed characters.\n",
      "The string \"abcdefg\" contains only allowed characters.\n",
      "The string \"\" contains some disallowed characters.\n"
     ]
    }
   ],
   "source": [
    "import re\n",
    "\n",
    "def contains_only_allowed_characters(string):\n",
    "    pattern = r'^[a-zA-Z0-9]+$'\n",
    "    return re.match(pattern, string) is not None\n",
    "\n",
    "# Test cases\n",
    "strings = ['Hello123', 'GoodMorning!', 'Welcome_123', '12345', 'abcdefg', '']\n",
    "for string in strings:\n",
    "    if contains_only_allowed_characters(string):\n",
    "        print(f'The string \"{string}\" contains only allowed characters.')\n",
    "    else:\n",
    "        print(f'The string \"{string}\" contains some disallowed characters.')"
   ]
  },
  {
   "cell_type": "code",
   "execution_count": 87,
   "id": "66023f55",
   "metadata": {},
   "outputs": [
    {
     "name": "stdout",
     "output_type": "stream",
     "text": [
      "not match\n",
      "found a match\n"
     ]
    }
   ],
   "source": [
    "#Question no 03\n",
    "import re\n",
    "def text_match(text):\n",
    "    pattern = 'carr+?'\n",
    "    if re.match(pattern, text):\n",
    "        return 'found a match'\n",
    "    else:\n",
    "        return('not match')\n",
    "str = (\"\")\n",
    "print(text_match(\"car\"))\n",
    "print(text_match(\"carrr\"))"
   ]
  },
  {
   "cell_type": "code",
   "execution_count": 88,
   "id": "378bd308",
   "metadata": {},
   "outputs": [
    {
     "name": "stdout",
     "output_type": "stream",
     "text": [
      "not match\n",
      "match\n"
     ]
    }
   ],
   "source": [
    "#Question no 02\n",
    "def _match(text):\n",
    "    pattern = 'rar?'\n",
    "    if re.findall(pattern, text):\n",
    "        return 'match'\n",
    "    else:\n",
    "        return('not match')\n",
    "print(_match(\"cc\"))\n",
    "print(_match(\"rarrrrrr\"))\n"
   ]
  },
  {
   "cell_type": "code",
   "execution_count": 89,
   "id": "b0bb011a",
   "metadata": {},
   "outputs": [
    {
     "name": "stdout",
     "output_type": "stream",
     "text": [
      "match\n",
      "not match\n",
      "not match\n"
     ]
    }
   ],
   "source": [
    "#Question no 04\n",
    "def _match(text):\n",
    "    pattern = 'a[ b]'\n",
    "    if re.search(pattern, text):\n",
    "        return 'match'\n",
    "    else:\n",
    "        return('not match')\n",
    "print(_match(\"abb\"))   \n",
    "print(_match(\"aa\"))\n",
    "print(_match(\"cd\"))\n"
   ]
  },
  {
   "cell_type": "code",
   "execution_count": 90,
   "id": "52bc7d04",
   "metadata": {},
   "outputs": [
    {
     "name": "stdout",
     "output_type": "stream",
     "text": [
      "match\n",
      "not match\n"
     ]
    }
   ],
   "source": [
    "#Question no 05\n",
    "def _match(text):\n",
    "    pattern = 'ab{3}?'\n",
    "    if re.findall(pattern, text):\n",
    "        return 'match'\n",
    "    else:\n",
    "        return('not match')\n",
    "print(_match(\"aaabbbccc\"))\n",
    "print(_match(\"abccc\"))\n"
   ]
  },
  {
   "cell_type": "code",
   "execution_count": 91,
   "id": "2e9984fe",
   "metadata": {},
   "outputs": [
    {
     "name": "stdout",
     "output_type": "stream",
     "text": [
      "['Importance', 'Of', 'Regular', 'Expression', 'In', 'Python']\n"
     ]
    }
   ],
   "source": [
    "#Question no 06\n",
    "import re\n",
    "text = \"ImportanceOfRegularExpressionInPython\"\n",
    "result = re.findall('[A-Z]+[^A-Z]*', text)\n",
    "print(result)"
   ]
  },
  {
   "cell_type": "code",
   "execution_count": 92,
   "id": "24b2020e",
   "metadata": {},
   "outputs": [
    {
     "name": "stdout",
     "output_type": "stream",
     "text": [
      "match\n",
      "match\n"
     ]
    }
   ],
   "source": [
    "#Question no 07\n",
    "import re\n",
    "def _match(text):\n",
    "    pattern = 'ab{2,3}'\n",
    "    if re.findall(pattern, text):\n",
    "        return 'match'\n",
    "    else:\n",
    "        return(\"not match\")\n",
    "print(_match('abbb')) \n",
    "print(_match('abb'))"
   ]
  },
  {
   "cell_type": "code",
   "execution_count": 93,
   "id": "7bac8359",
   "metadata": {},
   "outputs": [
    {
     "name": "stdout",
     "output_type": "stream",
     "text": [
      "match\n"
     ]
    }
   ],
   "source": [
    "#Question no 08\n",
    "import re\n",
    "def _match(text):\n",
    "    pattern = '^[a-z]+_[a-z]+$'\n",
    "    if re.findall(pattern, text):\n",
    "        return 'match'\n",
    "    else:\n",
    "        return('not match')\n",
    "print(_match('aaaaaa_bbbbbb'))"
   ]
  },
  {
   "cell_type": "code",
   "execution_count": 94,
   "id": "e4d159d2",
   "metadata": {},
   "outputs": [
    {
     "name": "stdout",
     "output_type": "stream",
     "text": [
      "not match\n",
      "match\n"
     ]
    }
   ],
   "source": [
    "#Question no 09\n",
    "def _match(text):\n",
    "    pattern = 'a.*?b$'\n",
    "    if re.findall(pattern, text):\n",
    "             return 'match'\n",
    "    else:\n",
    "        return('not match')\n",
    "print(_match('aaabbbbccc'))\n",
    "print(_match('aaabbb'))"
   ]
  },
  {
   "cell_type": "code",
   "execution_count": 95,
   "id": "5f619b12",
   "metadata": {},
   "outputs": [
    {
     "name": "stdout",
     "output_type": "stream",
     "text": [
      "match\n",
      "not match\n"
     ]
    }
   ],
   "source": [
    "#Question no 10\n",
    "def _match(text):\n",
    "    pattern = '^\\w'\n",
    "    if re.findall(pattern, text):\n",
    "        return 'match'\n",
    "    else:\n",
    "        return('not match')\n",
    "print(_match(\"That was a wonderfull day\"))    \n",
    "print(_match(\" There is an pen to write\"))\n"
   ]
  },
  {
   "cell_type": "code",
   "execution_count": 96,
   "id": "b71cf12a",
   "metadata": {},
   "outputs": [
    {
     "name": "stdout",
     "output_type": "stream",
     "text": [
      "match\n",
      "not match\n",
      "match\n",
      "not match\n"
     ]
    }
   ],
   "source": [
    "#Question no 11\n",
    "def _match(text):\n",
    "    pattern = '^[A-Za-z0-9_]*$'\n",
    "    if re.match(pattern, text):\n",
    "        return 'match'\n",
    "    else:\n",
    "        return('not match')\n",
    "print(_match(\"Regular_Expression\"))\n",
    "print(_match(\"jack and jill_went_up to the hill\"))\n",
    "print(_match(\"Python_Exercise_1\"))\n",
    "print(_match(\"sandeep------\"))\n"
   ]
  },
  {
   "cell_type": "code",
   "execution_count": 97,
   "id": "e2b99f95",
   "metadata": {},
   "outputs": [
    {
     "name": "stdout",
     "output_type": "stream",
     "text": [
      "match\n",
      "not match\n"
     ]
    }
   ],
   "source": [
    "#Question no 12\n",
    "def _match(text):\n",
    "    pattern = '^[0-9]'\n",
    "    if re.match (pattern, text):\n",
    "        return 'match'\n",
    "    else:\n",
    "        return('not match')\n",
    "print(_match(\"123sandeep\"))    \n",
    "print(_match(\" There is an pen to write\"))\n"
   ]
  },
  {
   "cell_type": "code",
   "execution_count": 98,
   "id": "407572a2",
   "metadata": {},
   "outputs": [
    {
     "name": "stdout",
     "output_type": "stream",
     "text": [
      "260.8.94.109\n"
     ]
    }
   ],
   "source": [
    "#Question no 13\n",
    "ip = \"260.08.094.109\"\n",
    "new_ip = re.sub(r'\\.0+','.', ip)\n",
    "print(new_ip)\n"
   ]
  },
  {
   "cell_type": "code",
   "execution_count": 2,
   "id": "cdb1b69b",
   "metadata": {},
   "outputs": [
    {
     "name": "stdout",
     "output_type": "stream",
     "text": [
      "August 15th 1947\n"
     ]
    }
   ],
   "source": [
    "#Question no 14\n",
    "import re\n",
    "text = \"On August 15th 1947 that India was declared independent from British colonialism, and the reins of control were handed over to the leaders of the Country.\"\n",
    "date_pattern = r\"\\b([A-Z][a-z]+ \\d{1,2}(?:st|nd|rd|th)? \\d{4})\\b\"\n",
    "\n",
    "match = re.search(date_pattern, text)\n",
    "if match:\n",
    "    date_string = match.group(1)\n",
    "    print(date_string)\n",
    "else:\n",
    "    print(\"No match found.\")\n",
    "\n",
    "    "
   ]
  },
  {
   "cell_type": "code",
   "execution_count": 100,
   "id": "7fab9182",
   "metadata": {},
   "outputs": [
    {
     "name": "stdout",
     "output_type": "stream",
     "text": [
      "Searching for \"fox\" in \"The quick brown fox jumps over the lazy dog\"->\n",
      "match\n",
      "Searching for \"dog\" in \"The quick brown fox jumps over the lazy dog\"->\n",
      "match\n",
      "Searching for \"horse\" in \"The quick brown fox jumps over the lazy dog\"->\n",
      "not match\n"
     ]
    }
   ],
   "source": [
    "#Question no 15\n",
    "import re\n",
    "patterns = ['fox','dog','horse']\n",
    "text = \"The quick brown fox jumps over the lazy dog\"\n",
    "for pattern in patterns:\n",
    "    print('Searching for \"%s\" in \"%s\"->' % (pattern, text),)\n",
    "    if re.search(pattern, text):\n",
    "        print('match')\n",
    "    else:\n",
    "        print('not match')"
   ]
  },
  {
   "cell_type": "code",
   "execution_count": 101,
   "id": "e96c1ba3",
   "metadata": {},
   "outputs": [
    {
     "name": "stdout",
     "output_type": "stream",
     "text": [
      "fox word string\n",
      "dog word string\n",
      "horse word is not string\n"
     ]
    }
   ],
   "source": [
    "#Question no 16\n",
    "import re\n",
    "patterns = ['fox','dog','horse']\n",
    "text = \"The quick brown fox jumps over the lazy dog\"\n",
    "for pattern in patterns:\n",
    "    if re.search(pattern, text):\n",
    "        print('%s word string' %pattern)\n",
    "    else:\n",
    "        print('%s word is not string' %pattern)\n"
   ]
  },
  {
   "cell_type": "code",
   "execution_count": 102,
   "id": "9e1e544f",
   "metadata": {},
   "outputs": [
    {
     "name": "stdout",
     "output_type": "stream",
     "text": [
      "fox word string\n"
     ]
    }
   ],
   "source": [
    "#Question no 16\n",
    "import re\n",
    "patterns = ['fox']\n",
    "text = \"The quick brown fox jumps over the lazy dog\"\n",
    "for pattern in patterns:\n",
    "    if re.search(pattern, text):\n",
    "        print('%s word string' %pattern)\n",
    "    else:\n",
    "        print('%s word is not string' %pattern)"
   ]
  },
  {
   "cell_type": "code",
   "execution_count": 103,
   "id": "6e1c48e4",
   "metadata": {},
   "outputs": [
    {
     "name": "stdout",
     "output_type": "stream",
     "text": [
      "['exercises', 'exercises', 'exercises']\n"
     ]
    }
   ],
   "source": [
    "#Question no 17\n",
    "def find_substrings(text,pattern):\n",
    "    substrings = re.findall(pattern, text)\n",
    "    return substrings\n",
    "text ='Python exercises, PHP exercises, C# exercises'\n",
    "pattern = 'exercises'\n",
    "result = find_substrings(text,pattern)\n",
    "print(result)\n",
    "\n"
   ]
  },
  {
   "cell_type": "code",
   "execution_count": 104,
   "id": "e9b84362",
   "metadata": {},
   "outputs": [
    {
     "name": "stdout",
     "output_type": "stream",
     "text": [
      "matched play at 7 : 10\n"
     ]
    }
   ],
   "source": [
    "#Question no 18\n",
    "# example ('play',\"played play matched match\")\n",
    "#matched 'play' at 7:10\n",
    "def print_matches(substring, string):\n",
    "    a = re.search(r'\\b{0}\\b'.format(substring),string)\n",
    "    print(\"matched\",substring,\"at\",a.start(),\":\",a.end()-1)\n",
    "print_matches(\"play\",\"played play matched match\")    \n",
    "\n"
   ]
  },
  {
   "cell_type": "code",
   "execution_count": 1,
   "id": "cfd897ee",
   "metadata": {},
   "outputs": [
    {
     "name": "stdout",
     "output_type": "stream",
     "text": [
      "20-08-1992\n"
     ]
    }
   ],
   "source": [
    "#Question no 19\n",
    "from datetime import datetime\n",
    "def convert_date_format(date_string):\n",
    "    date_t = datetime.strptime(date_string, \"%Y-%m-%d\")\n",
    "    formatted_date = date_t.strftime(\"%d-%m-%Y\")\n",
    "    return formatted_date\n",
    "date_string = \"1992-08-20\"\n",
    "converted_date = convert_date_format(date_string)\n",
    "print(converted_date)"
   ]
  },
  {
   "cell_type": "code",
   "execution_count": 106,
   "id": "e768f178",
   "metadata": {},
   "outputs": [
    {
     "name": "stdout",
     "output_type": "stream",
     "text": [
      "Matched words are:\n",
      "egg\n",
      "and\n",
      "animal\n"
     ]
    }
   ],
   "source": [
    "#Question no 20\n",
    "string = \"Hello my name is john. I like egg and my favourite animal is Elephant.\"\n",
    "words = re.findall(r'\\b[ae]\\w+', string)\n",
    "print(\"Matched words are:\")\n",
    "for word in words:\n",
    "    print(word)"
   ]
  },
  {
   "cell_type": "code",
   "execution_count": 107,
   "id": "f8d09fa1",
   "metadata": {},
   "outputs": [
    {
     "name": "stdout",
     "output_type": "stream",
     "text": [
      "Enter a string: asdfghj123876afsd1324\n",
      "The numbers in the string are: ['1', '2', '3', '8', '7', '6', '1', '3', '2', '4']\n",
      "The positions of the numbers in the string are: [7, 8, 9, 10, 11, 12, 17, 18, 19, 20]\n"
     ]
    }
   ],
   "source": [
    "#Question no 21\n",
    "def find_numbers(str1):\n",
    "    numbers = []\n",
    "    for i in range(len(str1)):\n",
    "        if str1[i].isdigit():\n",
    "            numbers.append(str1[i])\n",
    "    return numbers\n",
    "def find_positions(str1):\n",
    "    positions = []\n",
    "    for i in range(len(str1)):\n",
    "        if str1[i].isdigit():\n",
    "            positions.append(i)\n",
    "    return positions\n",
    "str1 = input(\"Enter a string: \")\n",
    "numbers = find_numbers(str1)\n",
    "positions = find_positions(str1)\n",
    "print(\"The numbers in the string are:\", numbers)\n",
    "print(\"The positions of the numbers in the string are:\", positions)"
   ]
  },
  {
   "cell_type": "code",
   "execution_count": 41,
   "id": "dac50731",
   "metadata": {},
   "outputs": [
    {
     "name": "stdout",
     "output_type": "stream",
     "text": [
      "Enter a string adsf1324\n",
      "the maximum numeric value of the string 1324\n"
     ]
    }
   ],
   "source": [
    "#Question no 22\n",
    "def get_max_number(string):\n",
    "    numbers = re.findall(r\"\\d+\", (string))\n",
    "    numbers = [int(number) for number in numbers]\n",
    "    max_number = max(numbers)\n",
    "    return max_number\n",
    "string = input(\"Enter a string \")\n",
    "max_number = get_max_number(string)\n",
    "print(\"the maximum numeric value of the string\", max_number)"
   ]
  },
  {
   "cell_type": "code",
   "execution_count": 108,
   "id": "4929572d",
   "metadata": {},
   "outputs": [
    {
     "name": "stdout",
     "output_type": "stream",
     "text": [
      "Sandeep Went To The School \n"
     ]
    }
   ],
   "source": [
    "#Question no 23\n",
    "import re\n",
    "def add_spaces(text):\n",
    "    pattern = r\"([A-Z]+[a-z]*)\"\n",
    "    text = re.sub(pattern , r\"\\1 \", text)\n",
    "    return text\n",
    "print(add_spaces(\"SandeepWentToTheSchool\"))\n"
   ]
  },
  {
   "cell_type": "code",
   "execution_count": 109,
   "id": "5e2091f6",
   "metadata": {},
   "outputs": [
    {
     "name": "stdout",
     "output_type": "stream",
     "text": [
      "['Jack', 'And', 'Jill', 'Went', 'Up', 'To', 'The', 'Hill']\n"
     ]
    }
   ],
   "source": [
    "#Question no 24\n",
    "import re\n",
    "text = \"Jack And Jill Went Up To The Hill\"\n",
    "pattern = r\"[A-Z][a-z+]+\"\n",
    "matches = re.findall(pattern, text)\n",
    "print(matches)"
   ]
  },
  {
   "cell_type": "code",
   "execution_count": 110,
   "id": "fa25b66f",
   "metadata": {
    "scrolled": true
   },
   "outputs": [
    {
     "name": "stdout",
     "output_type": "stream",
     "text": [
      "Tom and  Jerry  both are playing\n"
     ]
    }
   ],
   "source": [
    "#Question no 25\n",
    "def remove_duplicate_words(sentance):\n",
    "    pattern = r'\\b(\\w+)\\b(?=.*\\b\\1\\b)'\n",
    "    result = re.sub(pattern,'', sentance)\n",
    "    return result.strip()\n",
    "sentance = \"Tom Tom and Jerry Jerry both both are playing\"\n",
    "result = remove_duplicate_words(sentance)\n",
    "print(result)"
   ]
  },
  {
   "cell_type": "code",
   "execution_count": 111,
   "id": "b4633eb6",
   "metadata": {},
   "outputs": [
    {
     "name": "stdout",
     "output_type": "stream",
     "text": [
      "valid string\n"
     ]
    }
   ],
   "source": [
    "#Question no 26\n",
    "def check_valid_string(string):\n",
    "    pattern = r\".*[a-zA-Z0-9]$\"\n",
    "    match = re.match(pattern, string)\n",
    "    return bool(match)\n",
    "input_string = \"Ramhasscoredmarks90out100\"\n",
    "if check_valid_string(input_string):\n",
    "    print(\"valid string\")\n",
    "else:\n",
    "    print(\"invalid string\")"
   ]
  },
  {
   "cell_type": "code",
   "execution_count": 112,
   "id": "04a6c522",
   "metadata": {},
   "outputs": [
    {
     "name": "stdout",
     "output_type": "stream",
     "text": [
      "['#Doltiwal', '#xyzabc', '#Demonetization']\n"
     ]
    }
   ],
   "source": [
    "#Question no 27\n",
    "def extract_hastags(text):\n",
    "    pattern = r\"#\\w+\"\n",
    "    hastags = re.findall(pattern, text)\n",
    "    return hastags\n",
    "text =  '''RT @kapil_kausik: #Doltiwal I mean #xyzabc is \"hurt\" by #Demonetization as the\n",
    "same has rendered USELESS <ed><U+00A0><U+00BD><ed><U+00B1><U+0089> \"acquired funds\" No wo'''\n",
    "hastags = extract_hastags(text)\n",
    "print(hastags)"
   ]
  },
  {
   "cell_type": "code",
   "execution_count": 113,
   "id": "25818f02",
   "metadata": {},
   "outputs": [
    {
     "name": "stdout",
     "output_type": "stream",
     "text": [
      "@Jags123456 Bharat band on 28??<ed><ed>Those who are protesting #demonetization are\n",
      "all different party leaders\n"
     ]
    }
   ],
   "source": [
    "#Question no 28\n",
    "def remove_symbol(text):\n",
    "    pattern = r\"<U\\+\\w+>\"\n",
    "    clean_the_text = re.sub(pattern, \"\", text)\n",
    "    return clean_the_text\n",
    "text =  '''@Jags123456 Bharat band on 28??<ed><U+00A0><U+00BD><ed><U+00B8><U+0082>Those who are protesting #demonetization are\n",
    "all different party leaders'''\n",
    "clean_the_text = remove_symbol(text)\n",
    "print(clean_the_text)"
   ]
  },
  {
   "cell_type": "code",
   "execution_count": 19,
   "id": "760bd6c9",
   "metadata": {},
   "outputs": [
    {
     "name": "stdout",
     "output_type": "stream",
     "text": [
      "12-09-1992\n",
      "15-12-1999\n"
     ]
    }
   ],
   "source": [
    "#Question no 29\n",
    "import re\n",
    "with open(\"sample_text.txt\", 'r') as file:\n",
    "    text = file.read()\n",
    "dates = re.findall(r'\\b\\d{2}-\\d{2}-\\d{4}\\b', text)\n",
    "for date in dates:\n",
    "    print(date)\n",
    "\n",
    "        "
   ]
  },
  {
   "cell_type": "code",
   "execution_count": 114,
   "id": "cff6b87a",
   "metadata": {},
   "outputs": [
    {
     "name": "stdout",
     "output_type": "stream",
     "text": [
      "Python:Exercises::PHP:exercises:\n"
     ]
    }
   ],
   "source": [
    "#Question no 30\n",
    "def replace_char(text):\n",
    "    pattern = r\"[ ,.]\"\n",
    "    replace_text = re.sub(pattern, \":\", text)\n",
    "    return replace_text\n",
    "text = 'Python Exercises, PHP exercises.'\n",
    "replace_text = replace_char(text)\n",
    "print(replace_text)\n"
   ]
  },
  {
   "cell_type": "code",
   "execution_count": null,
   "id": "fcd80c3d",
   "metadata": {},
   "outputs": [],
   "source": []
  }
 ],
 "metadata": {
  "kernelspec": {
   "display_name": "Python 3 (ipykernel)",
   "language": "python",
   "name": "python3"
  },
  "language_info": {
   "codemirror_mode": {
    "name": "ipython",
    "version": 3
   },
   "file_extension": ".py",
   "mimetype": "text/x-python",
   "name": "python",
   "nbconvert_exporter": "python",
   "pygments_lexer": "ipython3",
   "version": "3.9.13"
  }
 },
 "nbformat": 4,
 "nbformat_minor": 5
}
